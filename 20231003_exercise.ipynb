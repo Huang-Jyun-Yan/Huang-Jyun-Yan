{
  "nbformat": 4,
  "nbformat_minor": 0,
  "metadata": {
    "colab": {
      "provenance": []
    },
    "kernelspec": {
      "name": "python3",
      "display_name": "Python 3"
    },
    "language_info": {
      "name": "python"
    }
  },
  "cells": [
    {
      "cell_type": "code",
      "execution_count": 9,
      "metadata": {
        "colab": {
          "base_uri": "https://localhost:8080/"
        },
        "id": "rS1ebtoWYUl7",
        "outputId": "3bd28e61-4401-49d3-cb6e-c932143af752"
      },
      "outputs": [
        {
          "output_type": "stream",
          "name": "stdout",
          "text": [
            "A\n",
            "['K', 'H', 'U']\n"
          ]
        }
      ],
      "source": [
        "a='C,B,A'\n",
        "b=['F,','G','H']\n",
        "a_list=a.split(',')\n",
        "a_list[0]='K'\n",
        "a_list=a_list+b\n",
        "print(a_list.pop(2))\n",
        "del a_list[1:4]\n",
        "a_list.append('U')\n",
        "result=a_list\n",
        "print(result)\n"
      ]
    },
    {
      "cell_type": "code",
      "source": [
        "height=float(input('請輸入身高(公尺)'))\n",
        "weight=float(input('請輸入體重)公斤'))\n",
        "bmi=weight/(height)**2\n",
        "print(\"BMI為\",bmi)\n",
        "if bmi<18.5:\n",
        "  print(\"體位:過輕\")\n",
        "elif bmi<24:\n",
        "  print(\"體位:適中\")\n",
        "elif bmi<27:\n",
        "  print(\"體位:過重\")\n",
        "else:\n",
        "  print(\"體位:肥胖\")"
      ],
      "metadata": {
        "colab": {
          "base_uri": "https://localhost:8080/"
        },
        "id": "Y17tQ7FzmH1Q",
        "outputId": "2363e264-3198-4839-ba42-f82c5fa2a3fe"
      },
      "execution_count": 18,
      "outputs": [
        {
          "output_type": "stream",
          "name": "stdout",
          "text": [
            "請輸入身高(公尺)1.6\n",
            "請輸入體重)公斤21\n",
            "BMI為 8.203124999999998\n",
            "體位:過輕\n"
          ]
        }
      ]
    },
    {
      "cell_type": "code",
      "source": [],
      "metadata": {
        "id": "gt-sYsbcnraA"
      },
      "execution_count": null,
      "outputs": []
    }
  ]
}