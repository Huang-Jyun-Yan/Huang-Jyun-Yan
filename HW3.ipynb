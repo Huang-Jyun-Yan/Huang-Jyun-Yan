{
  "nbformat": 4,
  "nbformat_minor": 0,
  "metadata": {
    "colab": {
      "provenance": []
    },
    "kernelspec": {
      "name": "python3",
      "display_name": "Python 3"
    },
    "language_info": {
      "name": "python"
    }
  },
  "cells": [
    {
      "cell_type": "code",
      "execution_count": 1,
      "metadata": {
        "colab": {
          "base_uri": "https://localhost:8080/"
        },
        "id": "16Zm1fA5eJZJ",
        "outputId": "76ceac9e-d21b-4cbe-bd1e-073611dd7887"
      },
      "outputs": [
        {
          "output_type": "stream",
          "name": "stdout",
          "text": [
            "長庚大學\n",
            "醫學系\n",
            "黃俊諺\n"
          ]
        }
      ],
      "source": [
        "a='''長庚大學\n",
        "醫學系\n",
        "黃俊諺'''\n",
        "print(str(a))\n"
      ]
    },
    {
      "cell_type": "code",
      "source": [
        "a=int(input('請輸入一個數字'))\n",
        "print(a>10)\n",
        "\n"
      ],
      "metadata": {
        "colab": {
          "base_uri": "https://localhost:8080/"
        },
        "id": "Bve6e9VKfWZA",
        "outputId": "cf2c2048-daad-44cf-97f6-0e4c5c44a02a"
      },
      "execution_count": 8,
      "outputs": [
        {
          "output_type": "stream",
          "name": "stdout",
          "text": [
            "請輸入一個數字12\n",
            "True\n"
          ]
        }
      ]
    },
    {
      "cell_type": "code",
      "source": [
        "a=int(3)\n",
        "b=int(5)\n",
        "print(a**b)"
      ],
      "metadata": {
        "colab": {
          "base_uri": "https://localhost:8080/"
        },
        "id": "iCyjij53hc_P",
        "outputId": "e2d3e88b-7ae5-48e6-c5e9-713861a5ae33"
      },
      "execution_count": 14,
      "outputs": [
        {
          "output_type": "stream",
          "name": "stdout",
          "text": [
            "243\n"
          ]
        }
      ]
    },
    {
      "cell_type": "code",
      "source": [
        "a=3\n",
        "b=5\n",
        "print(a!=b)"
      ],
      "metadata": {
        "colab": {
          "base_uri": "https://localhost:8080/"
        },
        "id": "1rj5DEplkVZf",
        "outputId": "3109ecc1-60ea-40b2-cd00-71f955ce5786"
      },
      "execution_count": 15,
      "outputs": [
        {
          "output_type": "stream",
          "name": "stdout",
          "text": [
            "True\n"
          ]
        }
      ]
    },
    {
      "cell_type": "code",
      "source": [
        "a=3\n",
        "b=5\n",
        "a/=b\n",
        "print(a)"
      ],
      "metadata": {
        "colab": {
          "base_uri": "https://localhost:8080/"
        },
        "id": "OwFzvNsvlACm",
        "outputId": "2fdf141e-1fe8-40fd-d4e2-e841dad37e3e"
      },
      "execution_count": 18,
      "outputs": [
        {
          "output_type": "stream",
          "name": "stdout",
          "text": [
            "0.6\n"
          ]
        }
      ]
    },
    {
      "cell_type": "code",
      "source": [
        "a=3\n",
        "b=5\n",
        "print(float(a/b))"
      ],
      "metadata": {
        "colab": {
          "base_uri": "https://localhost:8080/"
        },
        "id": "j-JMBFRcmHcO",
        "outputId": "afacd515-4822-48e0-db68-901a5c23b054"
      },
      "execution_count": 19,
      "outputs": [
        {
          "output_type": "stream",
          "name": "stdout",
          "text": [
            "0.6\n"
          ]
        }
      ]
    },
    {
      "cell_type": "code",
      "source": [],
      "metadata": {
        "id": "4ER_bePag6Wf"
      },
      "execution_count": null,
      "outputs": []
    }
  ]
}