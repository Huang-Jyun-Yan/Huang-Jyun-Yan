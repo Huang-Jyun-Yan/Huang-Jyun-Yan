{
  "nbformat": 4,
  "nbformat_minor": 0,
  "metadata": {
    "colab": {
      "provenance": []
    },
    "kernelspec": {
      "name": "python3",
      "display_name": "Python 3"
    },
    "language_info": {
      "name": "python"
    }
  },
  "cells": [
    {
      "cell_type": "code",
      "execution_count": 10,
      "metadata": {
        "colab": {
          "base_uri": "https://localhost:8080/"
        },
        "id": "E7e4YV17zcGH",
        "outputId": "7f1bf48d-99dd-4e4f-eb0d-f30567aedb12"
      },
      "outputs": [
        {
          "output_type": "stream",
          "name": "stdout",
          "text": [
            "請輸入資料10 20 30 40 50\n",
            "刪除最高和最低分後的平均成績為: 30.0\n"
          ]
        }
      ],
      "source": [
        "data=(input(\"請輸入資料\")).split()\n",
        "scores=[int(i)for i in data]\n",
        "scores.remove(max(scores))\n",
        "scores.remove(min(scores))\n",
        "average_score=sum(scores)/3\n",
        "print(\"刪除最高和最低分後的平均成績為:\",average_score)"
      ]
    },
    {
      "cell_type": "code",
      "source": [
        "from sys import base_exec_prefix\n",
        "a=float(input(\"請輸入一個數\"))\n",
        "b=float(input(\"請輸入一個數\"))\n",
        "c=input(\"請輸入一個計算符號\")\n",
        "if(c==\"+\"):\n",
        " ans=a+b\n",
        "elif(c==\"-\"):\n",
        " ans=a-b\n",
        "elif(c==\"/\"):\n",
        " ans=a/b\n",
        "elif(c==\"*\"):\n",
        " ans=a*b\n",
        "print(\"計算後的結果為:\",ans)"
      ],
      "metadata": {
        "colab": {
          "base_uri": "https://localhost:8080/"
        },
        "id": "rSJAzXIc3KDM",
        "outputId": "13076660-8170-4a42-e3c1-8c342577d1bc"
      },
      "execution_count": 17,
      "outputs": [
        {
          "output_type": "stream",
          "name": "stdout",
          "text": [
            "請輸入一個數4\n",
            "請輸入一個數5\n",
            "請輸入一個計算符號-\n",
            "計算後的結果為: -1.0\n"
          ]
        }
      ]
    },
    {
      "cell_type": "markdown",
      "source": [],
      "metadata": {
        "id": "6oBTYMD75Xuc"
      }
    },
    {
      "cell_type": "code",
      "source": [
        "year=int(input(\"請輸入西元年份:\"))\n",
        "if(year<1583):\n",
        "  if(year%4==0):\n",
        "   print(\"閏年\")\n",
        "  else:\n",
        "     print(\"平年\")\n",
        "elif(year>1582):\n",
        "  if(year%4==0 and year%100!=0)or(year%400==0):\n",
        "   print(\"閏年\")\n",
        "  else:\n",
        "   print(\"平年\")\n"
      ],
      "metadata": {
        "colab": {
          "base_uri": "https://localhost:8080/"
        },
        "id": "M5RyE8Db5YNS",
        "outputId": "3e71991d-c355-463c-a37a-44873d41384d"
      },
      "execution_count": 26,
      "outputs": [
        {
          "output_type": "stream",
          "name": "stdout",
          "text": [
            "請輸入西元年份:2022\n",
            "平年\n"
          ]
        }
      ]
    }
  ]
}